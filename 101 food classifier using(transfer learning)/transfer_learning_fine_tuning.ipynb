{
  "nbformat": 4,
  "nbformat_minor": 0,
  "metadata": {
    "colab": {
      "name": "transfer learning fine tuning.ipynb",
      "provenance": [],
      "collapsed_sections": []
    },
    "kernelspec": {
      "name": "python3",
      "display_name": "Python 3"
    },
    "language_info": {
      "name": "python"
    },
    "accelerator": "GPU",
    "gpuClass": "standard"
  },
  "cells": [
    {
      "cell_type": "code",
      "execution_count": null,
      "metadata": {
        "colab": {
          "base_uri": "https://localhost:8080/"
        },
        "id": "Hd2Ca-RF_Urc",
        "outputId": "66f8a41a-ceae-4251-d67d-08c9fb53c4c4"
      },
      "outputs": [
        {
          "output_type": "stream",
          "name": "stdout",
          "text": [
            "Mon Jul  4 12:03:56 2022       \n",
            "+-----------------------------------------------------------------------------+\n",
            "| NVIDIA-SMI 460.32.03    Driver Version: 460.32.03    CUDA Version: 11.2     |\n",
            "|-------------------------------+----------------------+----------------------+\n",
            "| GPU  Name        Persistence-M| Bus-Id        Disp.A | Volatile Uncorr. ECC |\n",
            "| Fan  Temp  Perf  Pwr:Usage/Cap|         Memory-Usage | GPU-Util  Compute M. |\n",
            "|                               |                      |               MIG M. |\n",
            "|===============================+======================+======================|\n",
            "|   0  Tesla T4            Off  | 00000000:00:04.0 Off |                    0 |\n",
            "| N/A   73C    P0    32W /  70W |   4886MiB / 15109MiB |      0%      Default |\n",
            "|                               |                      |                  N/A |\n",
            "+-------------------------------+----------------------+----------------------+\n",
            "                                                                               \n",
            "+-----------------------------------------------------------------------------+\n",
            "| Processes:                                                                  |\n",
            "|  GPU   GI   CI        PID   Type   Process name                  GPU Memory |\n",
            "|        ID   ID                                                   Usage      |\n",
            "|=============================================================================|\n",
            "+-----------------------------------------------------------------------------+\n"
          ]
        }
      ],
      "source": [
        "!nvidia-smi"
      ]
    },
    {
      "cell_type": "code",
      "source": [
        "!wget https://raw.githubusercontent.com/mrdbourke/tensorflow-deep-learning/main/extras/helper_functions.py"
      ],
      "metadata": {
        "colab": {
          "base_uri": "https://localhost:8080/"
        },
        "id": "3e5DDWkjAV2c",
        "outputId": "568dbf9e-f157-47d1-a54f-1a6ee97dc038"
      },
      "execution_count": null,
      "outputs": [
        {
          "output_type": "stream",
          "name": "stdout",
          "text": [
            "--2022-07-04 12:03:56--  https://raw.githubusercontent.com/mrdbourke/tensorflow-deep-learning/main/extras/helper_functions.py\n",
            "Resolving raw.githubusercontent.com (raw.githubusercontent.com)... 185.199.110.133, 185.199.111.133, 185.199.109.133, ...\n",
            "Connecting to raw.githubusercontent.com (raw.githubusercontent.com)|185.199.110.133|:443... connected.\n",
            "HTTP request sent, awaiting response... 200 OK\n",
            "Length: 10246 (10K) [text/plain]\n",
            "Saving to: ‘helper_functions.py.1’\n",
            "\n",
            "\rhelper_functions.py   0%[                    ]       0  --.-KB/s               \rhelper_functions.py 100%[===================>]  10.01K  --.-KB/s    in 0s      \n",
            "\n",
            "2022-07-04 12:03:56 (34.4 MB/s) - ‘helper_functions.py.1’ saved [10246/10246]\n",
            "\n"
          ]
        }
      ]
    },
    {
      "cell_type": "code",
      "source": [
        "from helper_functions import create_tensorboard_callback, plot_loss_curves, walk_through_dir , unzip_data"
      ],
      "metadata": {
        "id": "7z7BMRcL_3OR"
      },
      "execution_count": null,
      "outputs": []
    },
    {
      "cell_type": "code",
      "source": [
        "!wget https://storage.googleapis.com/ztm_tf_course/food_vision/10_food_classes_10_percent.zip"
      ],
      "metadata": {
        "colab": {
          "base_uri": "https://localhost:8080/"
        },
        "id": "jGQKeQTLBcMk",
        "outputId": "c4b46edf-b996-48bf-8703-b00a6fb21579"
      },
      "execution_count": null,
      "outputs": [
        {
          "output_type": "stream",
          "name": "stdout",
          "text": [
            "--2022-07-04 12:03:56--  https://storage.googleapis.com/ztm_tf_course/food_vision/10_food_classes_10_percent.zip\n",
            "Resolving storage.googleapis.com (storage.googleapis.com)... 172.253.117.128, 142.250.99.128, 142.250.107.128, ...\n",
            "Connecting to storage.googleapis.com (storage.googleapis.com)|172.253.117.128|:443... connected.\n",
            "HTTP request sent, awaiting response... 200 OK\n",
            "Length: 168546183 (161M) [application/zip]\n",
            "Saving to: ‘10_food_classes_10_percent.zip.1’\n",
            "\n",
            "10_food_classes_10_ 100%[===================>] 160.74M   137MB/s    in 1.2s    \n",
            "\n",
            "2022-07-04 12:03:58 (137 MB/s) - ‘10_food_classes_10_percent.zip.1’ saved [168546183/168546183]\n",
            "\n"
          ]
        }
      ]
    },
    {
      "cell_type": "code",
      "source": [
        "unzip_data(\"10_food_classes_10_percent.zip\")"
      ],
      "metadata": {
        "id": "UWUSOR-fBIKz"
      },
      "execution_count": null,
      "outputs": []
    },
    {
      "cell_type": "code",
      "source": [
        "walk_through_dir('10_food_classes_10_percent')"
      ],
      "metadata": {
        "id": "IERdRQjNBnJT",
        "colab": {
          "base_uri": "https://localhost:8080/"
        },
        "outputId": "376de078-fb63-4255-ca3f-8148ce82e4a3"
      },
      "execution_count": null,
      "outputs": [
        {
          "output_type": "stream",
          "name": "stdout",
          "text": [
            "There are 2 directories and 0 images in '10_food_classes_10_percent'.\n",
            "There are 10 directories and 0 images in '10_food_classes_10_percent/train'.\n",
            "There are 0 directories and 75 images in '10_food_classes_10_percent/train/ramen'.\n",
            "There are 0 directories and 75 images in '10_food_classes_10_percent/train/chicken_curry'.\n",
            "There are 0 directories and 75 images in '10_food_classes_10_percent/train/pizza'.\n",
            "There are 0 directories and 75 images in '10_food_classes_10_percent/train/hamburger'.\n",
            "There are 0 directories and 75 images in '10_food_classes_10_percent/train/grilled_salmon'.\n",
            "There are 0 directories and 75 images in '10_food_classes_10_percent/train/chicken_wings'.\n",
            "There are 0 directories and 75 images in '10_food_classes_10_percent/train/steak'.\n",
            "There are 0 directories and 75 images in '10_food_classes_10_percent/train/fried_rice'.\n",
            "There are 0 directories and 75 images in '10_food_classes_10_percent/train/sushi'.\n",
            "There are 0 directories and 75 images in '10_food_classes_10_percent/train/ice_cream'.\n",
            "There are 10 directories and 0 images in '10_food_classes_10_percent/test'.\n",
            "There are 0 directories and 250 images in '10_food_classes_10_percent/test/ramen'.\n",
            "There are 0 directories and 250 images in '10_food_classes_10_percent/test/chicken_curry'.\n",
            "There are 0 directories and 250 images in '10_food_classes_10_percent/test/pizza'.\n",
            "There are 0 directories and 250 images in '10_food_classes_10_percent/test/hamburger'.\n",
            "There are 0 directories and 250 images in '10_food_classes_10_percent/test/grilled_salmon'.\n",
            "There are 0 directories and 250 images in '10_food_classes_10_percent/test/chicken_wings'.\n",
            "There are 0 directories and 250 images in '10_food_classes_10_percent/test/steak'.\n",
            "There are 0 directories and 250 images in '10_food_classes_10_percent/test/fried_rice'.\n",
            "There are 0 directories and 250 images in '10_food_classes_10_percent/test/sushi'.\n",
            "There are 0 directories and 250 images in '10_food_classes_10_percent/test/ice_cream'.\n"
          ]
        }
      ]
    },
    {
      "cell_type": "code",
      "source": [
        "train_dir = \"10_food_classes_10_percent/train\"\n",
        "test_dir = \"10_food_classes_10_percent/test\"\n"
      ],
      "metadata": {
        "id": "qWLlGFkDB1NT"
      },
      "execution_count": null,
      "outputs": []
    },
    {
      "cell_type": "code",
      "source": [
        "import tensorflow as tf\n",
        "IMG_SIZE = (224,224)\n",
        "train_data_10_percent = tf.keras.preprocessing.image_dataset_from_directory(directory = train_dir,\n",
        "                                                                    image_size = IMG_SIZE,\n",
        "                                                                    label_mode = \"categorical\")\n",
        "test_data = tf.keras.preprocessing.image_dataset_from_directory(directory = test_dir,\n",
        "                                                                    image_size = IMG_SIZE,\n",
        "                                                                    label_mode = \"categorical\")"
      ],
      "metadata": {
        "colab": {
          "base_uri": "https://localhost:8080/"
        },
        "id": "-t1i1EN0Cg51",
        "outputId": "b2238542-954f-4099-a4eb-a00f9d3491ce"
      },
      "execution_count": null,
      "outputs": [
        {
          "output_type": "stream",
          "name": "stdout",
          "text": [
            "Found 750 files belonging to 10 classes.\n",
            "Found 2500 files belonging to 10 classes.\n"
          ]
        }
      ]
    },
    {
      "cell_type": "code",
      "source": [
        ""
      ],
      "metadata": {
        "id": "zy_HDkQLDmG7"
      },
      "execution_count": null,
      "outputs": []
    },
    {
      "cell_type": "code",
      "source": [
        "train_data_10_percent.class_names\n"
      ],
      "metadata": {
        "colab": {
          "base_uri": "https://localhost:8080/"
        },
        "id": "3J3nMV7sDw_A",
        "outputId": "15c4a55e-3c68-4d60-b390-f7be622af4da"
      },
      "execution_count": null,
      "outputs": [
        {
          "output_type": "execute_result",
          "data": {
            "text/plain": [
              "['chicken_curry',\n",
              " 'chicken_wings',\n",
              " 'fried_rice',\n",
              " 'grilled_salmon',\n",
              " 'hamburger',\n",
              " 'ice_cream',\n",
              " 'pizza',\n",
              " 'ramen',\n",
              " 'steak',\n",
              " 'sushi']"
            ]
          },
          "metadata": {},
          "execution_count": 71
        }
      ]
    },
    {
      "cell_type": "code",
      "source": [
        "for images, labels in train_data_10_percent.take(1):\n",
        "  print(images, labels)\n"
      ],
      "metadata": {
        "id": "5uxxm_NMEG1_"
      },
      "execution_count": null,
      "outputs": []
    },
    {
      "cell_type": "code",
      "source": [
        "efficient_model = tf.keras.applications.EfficientNetB0(\n",
        "    include_top=False,\n",
        ")\n",
        "efficient_model.trainable = False"
      ],
      "metadata": {
        "id": "Qu_Bg2BkEOzn"
      },
      "execution_count": null,
      "outputs": []
    },
    {
      "cell_type": "code",
      "source": [
        "len(train_data_10_percent)"
      ],
      "metadata": {
        "id": "9tGiSAhjMKlf",
        "colab": {
          "base_uri": "https://localhost:8080/"
        },
        "outputId": "2d49594f-b53d-4416-c954-c2ddc39c1647"
      },
      "execution_count": null,
      "outputs": [
        {
          "output_type": "execute_result",
          "data": {
            "text/plain": [
              "24"
            ]
          },
          "metadata": {},
          "execution_count": 74
        }
      ]
    },
    {
      "cell_type": "code",
      "source": [
        "inputs = tf.keras.Input((224,224,3))\n",
        "\n",
        "x = efficient_model(inputs, training=False)\n",
        "x = tf.keras.layers.GlobalAveragePooling2D()(x)\n",
        "output = tf.keras.layers.Dense(10)(x)\n",
        "print(output.shape)\n",
        "\n",
        "model_y = tf.keras.Model(inputs, output)"
      ],
      "metadata": {
        "colab": {
          "base_uri": "https://localhost:8080/"
        },
        "id": "QNjYgU5qKUIy",
        "outputId": "090a0aca-27e6-4714-f512-b058b07adf89"
      },
      "execution_count": null,
      "outputs": [
        {
          "output_type": "stream",
          "name": "stdout",
          "text": [
            "(None, 10)\n"
          ]
        }
      ]
    },
    {
      "cell_type": "code",
      "source": [
        "model_y.compile(loss = tf.keras.losses.CategoricalCrossentropy(),\n",
        "                        optimizer = tf.keras.optimizers.Adam(),\n",
        "                        metrics = [\"accuracy\"])"
      ],
      "metadata": {
        "id": "l4qgVoq1FQjf"
      },
      "execution_count": null,
      "outputs": []
    },
    {
      "cell_type": "code",
      "source": [
        "model_y.summary()"
      ],
      "metadata": {
        "colab": {
          "base_uri": "https://localhost:8080/"
        },
        "id": "ucdQ6weIO5vB",
        "outputId": "1d2bf22d-4284-4b5a-b2a5-ffafe2978aca"
      },
      "execution_count": null,
      "outputs": [
        {
          "output_type": "stream",
          "name": "stdout",
          "text": [
            "Model: \"model_2\"\n",
            "_________________________________________________________________\n",
            " Layer (type)                Output Shape              Param #   \n",
            "=================================================================\n",
            " input_4 (InputLayer)        [(None, 224, 224, 3)]     0         \n",
            "                                                                 \n",
            " efficientnetb0 (Functional)  (None, None, None, 1280)  4049571  \n",
            "                                                                 \n",
            " global_average_pooling2d_2   (None, 1280)             0         \n",
            " (GlobalAveragePooling2D)                                        \n",
            "                                                                 \n",
            " dense_2 (Dense)             (None, 10)                12810     \n",
            "                                                                 \n",
            "=================================================================\n",
            "Total params: 4,062,381\n",
            "Trainable params: 12,810\n",
            "Non-trainable params: 4,049,571\n",
            "_________________________________________________________________\n"
          ]
        }
      ]
    },
    {
      "cell_type": "code",
      "source": [
        "model_y.fit(train_data_10_percent,\n",
        "            epochs = 20,\n",
        "            steps_per_epoch = len(train_data_10_percent),\n",
        "            validation_data = test_data,\n",
        "            validation_steps = len(test_data))"
      ],
      "metadata": {
        "id": "gt6QvC0wGGpO"
      },
      "execution_count": null,
      "outputs": []
    },
    {
      "cell_type": "code",
      "source": [
        "len(train_data_10_percent)"
      ],
      "metadata": {
        "colab": {
          "base_uri": "https://localhost:8080/"
        },
        "id": "BDpKCXSiJ-bR",
        "outputId": "f47dcdd3-6fcf-4a71-8356-8a8d7f51cb04"
      },
      "execution_count": null,
      "outputs": [
        {
          "output_type": "execute_result",
          "data": {
            "text/plain": [
              "24"
            ]
          },
          "metadata": {},
          "execution_count": 79
        }
      ]
    },
    {
      "cell_type": "code",
      "source": [
        "base_model = tf.keras.applications.EfficientNetB0(include_top = False)\n",
        "base_model.trainable = False\n",
        "inputs = tf.keras.layers.Input(shape = (224,224,3),name = \"input_layer\")\n",
        "x = base_model(inputs)\n",
        "x = tf.keras.layers.GlobalAveragePooling2D()(x)\n",
        "outputs = tf.keras.layers.Dense(10, activation = 'relu')(x)\n",
        "model_0 = tf.keras.Model(inputs, outputs)\n",
        "model_0.compile(loss = 'categorical_crossentropy',\n",
        "                optimizer = tf.keras.optimizers.Adam(),\n",
        "                metrics = [\"accuracy\"])\n",
        "h = model_0.fit(train_data_10_percent,\n",
        "                epochs = 10,\n",
        "            steps_per_epoch = len(train_data_10_percent),\n",
        "            validation_data = test_data,\n",
        "            validation_steps = len(test_data))\n"
      ],
      "metadata": {
        "id": "sZpWNkJ1GkMo",
        "colab": {
          "base_uri": "https://localhost:8080/"
        },
        "outputId": "868d4019-49c1-44b7-cf80-844ee2428e8d"
      },
      "execution_count": null,
      "outputs": [
        {
          "output_type": "stream",
          "name": "stdout",
          "text": [
            "Epoch 1/10\n",
            "24/24 [==============================] - 15s 378ms/step - loss: 4.1075 - accuracy: 0.3520 - val_loss: 1.8385 - val_accuracy: 0.5824\n",
            "Epoch 2/10\n",
            "24/24 [==============================] - 8s 323ms/step - loss: nan - accuracy: 0.6627 - val_loss: nan - val_accuracy: 0.6944\n",
            "Epoch 3/10\n",
            "24/24 [==============================] - 8s 323ms/step - loss: nan - accuracy: 0.7400 - val_loss: nan - val_accuracy: 0.7484\n",
            "Epoch 4/10\n",
            "24/24 [==============================] - 8s 323ms/step - loss: nan - accuracy: 0.7720 - val_loss: nan - val_accuracy: 0.7484\n",
            "Epoch 5/10\n",
            "24/24 [==============================] - 8s 323ms/step - loss: nan - accuracy: 0.8000 - val_loss: nan - val_accuracy: 0.7460\n",
            "Epoch 6/10\n",
            "24/24 [==============================] - 8s 322ms/step - loss: nan - accuracy: 0.7667 - val_loss: nan - val_accuracy: 0.7304\n",
            "Epoch 7/10\n",
            "24/24 [==============================] - 8s 322ms/step - loss: nan - accuracy: 0.8120 - val_loss: nan - val_accuracy: 0.7712\n",
            "Epoch 8/10\n",
            "24/24 [==============================] - 8s 325ms/step - loss: nan - accuracy: 0.8360 - val_loss: nan - val_accuracy: 0.7752\n",
            "Epoch 9/10\n",
            "24/24 [==============================] - 8s 324ms/step - loss: nan - accuracy: 0.8613 - val_loss: nan - val_accuracy: 0.7856\n",
            "Epoch 10/10\n",
            "24/24 [==============================] - 8s 323ms/step - loss: nan - accuracy: 0.8627 - val_loss: nan - val_accuracy: 0.7816\n"
          ]
        }
      ]
    },
    {
      "cell_type": "code",
      "source": [
        "!!wget https://storage.googleapis.com/ztm_tf_course/food_vision/10_food_classes_1_percent.zip"
      ],
      "metadata": {
        "id": "_WmMk__mwxy8"
      },
      "execution_count": null,
      "outputs": []
    },
    {
      "cell_type": "code",
      "source": [
        "train_dir = \"10_food_classes_1_percent/train\"\n",
        "test_dir = \"10_food_classes_1_percent/test\"\n",
        "unzip_data('10_food_classes_1_percent.zip')"
      ],
      "metadata": {
        "id": "O89GvPAEUQlR"
      },
      "execution_count": null,
      "outputs": []
    },
    {
      "cell_type": "code",
      "source": [
        "walk_through_dir(\"10_food_classes_1_percent\")"
      ],
      "metadata": {
        "colab": {
          "base_uri": "https://localhost:8080/"
        },
        "id": "gQsAoD2Sdau3",
        "outputId": "13801248-264b-4b77-baf7-007260111c56"
      },
      "execution_count": null,
      "outputs": [
        {
          "output_type": "stream",
          "name": "stdout",
          "text": [
            "There are 2 directories and 0 images in '10_food_classes_1_percent'.\n",
            "There are 10 directories and 0 images in '10_food_classes_1_percent/train'.\n",
            "There are 0 directories and 7 images in '10_food_classes_1_percent/train/ramen'.\n",
            "There are 0 directories and 7 images in '10_food_classes_1_percent/train/chicken_curry'.\n",
            "There are 0 directories and 7 images in '10_food_classes_1_percent/train/pizza'.\n",
            "There are 0 directories and 7 images in '10_food_classes_1_percent/train/hamburger'.\n",
            "There are 0 directories and 7 images in '10_food_classes_1_percent/train/grilled_salmon'.\n",
            "There are 0 directories and 7 images in '10_food_classes_1_percent/train/chicken_wings'.\n",
            "There are 0 directories and 7 images in '10_food_classes_1_percent/train/steak'.\n",
            "There are 0 directories and 7 images in '10_food_classes_1_percent/train/fried_rice'.\n",
            "There are 0 directories and 7 images in '10_food_classes_1_percent/train/sushi'.\n",
            "There are 0 directories and 7 images in '10_food_classes_1_percent/train/ice_cream'.\n",
            "There are 10 directories and 0 images in '10_food_classes_1_percent/test'.\n",
            "There are 0 directories and 250 images in '10_food_classes_1_percent/test/ramen'.\n",
            "There are 0 directories and 250 images in '10_food_classes_1_percent/test/chicken_curry'.\n",
            "There are 0 directories and 250 images in '10_food_classes_1_percent/test/pizza'.\n",
            "There are 0 directories and 250 images in '10_food_classes_1_percent/test/hamburger'.\n",
            "There are 0 directories and 250 images in '10_food_classes_1_percent/test/grilled_salmon'.\n",
            "There are 0 directories and 250 images in '10_food_classes_1_percent/test/chicken_wings'.\n",
            "There are 0 directories and 250 images in '10_food_classes_1_percent/test/steak'.\n",
            "There are 0 directories and 250 images in '10_food_classes_1_percent/test/fried_rice'.\n",
            "There are 0 directories and 250 images in '10_food_classes_1_percent/test/sushi'.\n",
            "There are 0 directories and 250 images in '10_food_classes_1_percent/test/ice_cream'.\n"
          ]
        }
      ]
    },
    {
      "cell_type": "code",
      "source": [
        ""
      ],
      "metadata": {
        "id": "4uh9V-ERA8rJ",
        "colab": {
          "base_uri": "https://localhost:8080/",
          "height": 166
        },
        "outputId": "d9486654-6e55-4034-f71c-9f581b731832"
      },
      "execution_count": null,
      "outputs": [
        {
          "output_type": "error",
          "ename": "AttributeError",
          "evalue": "ignored",
          "traceback": [
            "\u001b[0;31m---------------------------------------------------------------------------\u001b[0m",
            "\u001b[0;31mAttributeError\u001b[0m                            Traceback (most recent call last)",
            "\u001b[0;32m<ipython-input-84-b1cdf8577780>\u001b[0m in \u001b[0;36m<module>\u001b[0;34m()\u001b[0m\n\u001b[0;32m----> 1\u001b[0;31m \u001b[0mdata_augmentation\u001b[0m \u001b[0;34m=\u001b[0m \u001b[0mtf\u001b[0m\u001b[0;34m.\u001b[0m\u001b[0mkeras\u001b[0m\u001b[0;34m.\u001b[0m\u001b[0mS\u001b[0m\u001b[0;34m\u001b[0m\u001b[0;34m\u001b[0m\u001b[0m\n\u001b[0m",
            "\u001b[0;31mAttributeError\u001b[0m: module 'tensorflow.keras' has no attribute 'S'"
          ]
        }
      ]
    },
    {
      "cell_type": "code",
      "source": [
        "\n",
        "\n",
        "input_shape = (224,224,3)\n",
        "base_model = tf.keras.applications.EfficientNetB0(include_top = False)\n",
        "base_model.trainable = False\n",
        "\n",
        "# Creat input layer\n",
        "inputs = tf.keras.layers.Input(shape = input_shape)\n",
        "\n",
        "x = data_augmentation(inputs)\n",
        "x = base_model(x, training = False)\n",
        "x = tf.keras.layers.GlobalAveragePooling2D()(x)\n",
        "output = tf.keras.layers. Dense(10,activation= 'relu')\n"
      ],
      "metadata": {
        "id": "5NUp20ubdk13"
      },
      "execution_count": null,
      "outputs": []
    },
    {
      "cell_type": "code",
      "source": [
        "import tensorflow as tf"
      ],
      "metadata": {
        "id": "fdWg_eT0ANLo"
      },
      "execution_count": null,
      "outputs": []
    },
    {
      "cell_type": "code",
      "source": [
        "from tensorflow.keras import layers"
      ],
      "metadata": {
        "id": "grDuecLnBkEe"
      },
      "execution_count": null,
      "outputs": []
    },
    {
      "cell_type": "code",
      "source": [
        "from tensorflow.keras.layers.experimental import preprocessing"
      ],
      "metadata": {
        "id": "aVHxtHqDCFnG"
      },
      "execution_count": null,
      "outputs": []
    },
    {
      "cell_type": "code",
      "source": [
        "from tensorflow.keras.models import Sequential\n"
      ],
      "metadata": {
        "id": "SbgUp2mWCXUx"
      },
      "execution_count": null,
      "outputs": []
    },
    {
      "cell_type": "code",
      "source": [
        "data_augmentation = Sequential([\n",
        "   preprocessing.RandomFlip(\"horizontal\"),\n",
        "   preprocessing.RandomHeight(0.2),\n",
        "   preprocessing.RandomWidth(0.2),\n",
        "   preprocessing.RandomZoom(0.2),\n",
        "   preprocessing.RandomRotation(0.2),\n",
        "], name = \"data_augmentation\")"
      ],
      "metadata": {
        "id": "wCLJTuDTCgxB"
      },
      "execution_count": null,
      "outputs": []
    },
    {
      "cell_type": "code",
      "source": [
        "input_shape = (224,224,3)\n",
        "base_model = tf.keras.applications.EfficientNetB0(include_top = False)\n",
        "base_model.trainable = False \n",
        "\n",
        "inputs = layers.Input(shape = input_shape, name = \"input_layer\")\n",
        "x = data_augmentation(inputs)\n",
        "x = base_model(x , training = False)\n",
        "x = layers.GlobalAveragePooling2D()(x)\n",
        "outputs = layers.Dense(10 , activation = 'relu')(x)\n",
        "model_2 = tf.keras.Model(inputs, outputs)\n",
        "model_2.compile(loss = tf.keras.losses.CategoricalCrossentropy(),\n",
        "                optimizer = tf.keras.optimizers.Adam(),\n",
        "                metrics = [\"accuracy\"])"
      ],
      "metadata": {
        "id": "KcmCC2ZgDg73"
      },
      "execution_count": null,
      "outputs": []
    },
    {
      "cell_type": "code",
      "source": [
        "check_point = \"ten_percent_model_checkpoint_weights/checkpoint.ckpt\"\n",
        "checkpoint_callback = tf.keras.callbacks.ModelCheckpoint(filepath = check_point,\n",
        "                                                        save_weights_only = True,\n",
        "                                                        save_best_only = False,\n",
        "                                                        save_freq = \"epoch\",\n",
        "                                                        verbose = 1)"
      ],
      "metadata": {
        "id": "YFk8oFLvDmtj"
      },
      "execution_count": null,
      "outputs": []
    },
    {
      "cell_type": "code",
      "source": [
        "initial_epoch = 5"
      ],
      "metadata": {
        "id": "kKOWA1bw8qqW"
      },
      "execution_count": null,
      "outputs": []
    },
    {
      "cell_type": "code",
      "source": [
        "h = model_2.fit(train_data_10_percent,\n",
        "            epochs = initial_epoch,\n",
        "            steps_per_epoch = len(train_data_10_percent),\n",
        "            validation_data = test_data,\n",
        "            validation_steps = len(test_data),\n",
        "            callbacks = [checkpoint_callback])"
      ],
      "metadata": {
        "colab": {
          "base_uri": "https://localhost:8080/"
        },
        "id": "DR_qPOR3wFaZ",
        "outputId": "d67105eb-9d83-4cd4-991e-a521c4251c60"
      },
      "execution_count": null,
      "outputs": [
        {
          "output_type": "stream",
          "name": "stdout",
          "text": [
            "Epoch 1/5\n",
            "24/24 [==============================] - ETA: 0s - loss: 4.3107 - accuracy: 0.2067\n",
            "Epoch 1: saving model to ten_percent_model_checkpoint_weights/checkpoint.ckpt\n",
            "24/24 [==============================] - 17s 477ms/step - loss: 4.3107 - accuracy: 0.2067 - val_loss: 2.4594 - val_accuracy: 0.4076\n",
            "Epoch 2/5\n",
            "24/24 [==============================] - ETA: 0s - loss: 2.2477 - accuracy: 0.3893\n",
            "Epoch 2: saving model to ten_percent_model_checkpoint_weights/checkpoint.ckpt\n",
            "24/24 [==============================] - 10s 427ms/step - loss: 2.2477 - accuracy: 0.3893 - val_loss: 1.7861 - val_accuracy: 0.5148\n",
            "Epoch 3/5\n",
            "24/24 [==============================] - ETA: 0s - loss: 1.9027 - accuracy: 0.4880\n",
            "Epoch 3: saving model to ten_percent_model_checkpoint_weights/checkpoint.ckpt\n",
            "24/24 [==============================] - 10s 406ms/step - loss: 1.9027 - accuracy: 0.4880 - val_loss: 1.6070 - val_accuracy: 0.5820\n",
            "Epoch 4/5\n",
            "24/24 [==============================] - ETA: 0s - loss: 1.6647 - accuracy: 0.5467\n",
            "Epoch 4: saving model to ten_percent_model_checkpoint_weights/checkpoint.ckpt\n",
            "24/24 [==============================] - 11s 453ms/step - loss: 1.6647 - accuracy: 0.5467 - val_loss: 1.5599 - val_accuracy: 0.6220\n",
            "Epoch 5/5\n",
            "24/24 [==============================] - ETA: 0s - loss: 1.6040 - accuracy: 0.5840\n",
            "Epoch 5: saving model to ten_percent_model_checkpoint_weights/checkpoint.ckpt\n",
            "24/24 [==============================] - 10s 401ms/step - loss: 1.6040 - accuracy: 0.5840 - val_loss: 1.4367 - val_accuracy: 0.6748\n"
          ]
        }
      ]
    },
    {
      "cell_type": "code",
      "source": [
        "base_model.summary()"
      ],
      "metadata": {
        "id": "Q0PA9V6Zw5B2"
      },
      "execution_count": null,
      "outputs": []
    },
    {
      "cell_type": "code",
      "source": [
        "model_2.layers"
      ],
      "metadata": {
        "colab": {
          "base_uri": "https://localhost:8080/"
        },
        "id": "YTcVYSMyy6un",
        "outputId": "76f80afe-b55d-43ac-92a2-ef39897d2689"
      },
      "execution_count": null,
      "outputs": [
        {
          "output_type": "execute_result",
          "data": {
            "text/plain": [
              "[<keras.engine.input_layer.InputLayer at 0x7fb6811cda90>,\n",
              " <keras.engine.sequential.Sequential at 0x7fb6811f6410>,\n",
              " <keras.engine.functional.Functional at 0x7fb680d2a590>,\n",
              " <keras.layers.pooling.GlobalAveragePooling2D at 0x7fb6811cdc10>,\n",
              " <keras.layers.core.dense.Dense at 0x7fb680ce9110>]"
            ]
          },
          "metadata": {},
          "execution_count": 97
        }
      ]
    },
    {
      "cell_type": "code",
      "source": [
        "for l in model_2.layers:\n",
        "  print(l , l.trainable)"
      ],
      "metadata": {
        "colab": {
          "base_uri": "https://localhost:8080/"
        },
        "id": "4bJVVcMy3RM4",
        "outputId": "c29558d7-b992-4bbd-ea6d-08caa0809d38"
      },
      "execution_count": null,
      "outputs": [
        {
          "output_type": "stream",
          "name": "stdout",
          "text": [
            "<keras.engine.input_layer.InputLayer object at 0x7fb6811cda90> True\n",
            "<keras.engine.sequential.Sequential object at 0x7fb6811f6410> True\n",
            "<keras.engine.functional.Functional object at 0x7fb680d2a590> False\n",
            "<keras.layers.pooling.GlobalAveragePooling2D object at 0x7fb6811cdc10> True\n",
            "<keras.layers.core.dense.Dense object at 0x7fb680ce9110> True\n"
          ]
        }
      ]
    },
    {
      "cell_type": "code",
      "source": [
        "base_model.trainable = True\n",
        "for l in base_model.layers[:-10]:\n",
        "  l.trainable = False\n",
        "\n",
        "model_2.compile(optimizer = tf.keras.optimizers.Adam(lr = 0.0001),\n",
        "                loss = \"categorical_crossentropy\",\n",
        "                metrics = [\"accuracy\"])"
      ],
      "metadata": {
        "colab": {
          "base_uri": "https://localhost:8080/"
        },
        "id": "EqpNuOwt3bhA",
        "outputId": "d8848719-621e-4f93-a767-60b4f814263e"
      },
      "execution_count": null,
      "outputs": [
        {
          "output_type": "stream",
          "name": "stderr",
          "text": [
            "/usr/local/lib/python3.7/dist-packages/keras/optimizer_v2/adam.py:105: UserWarning: The `lr` argument is deprecated, use `learning_rate` instead.\n",
            "  super(Adam, self).__init__(name, **kwargs)\n"
          ]
        }
      ]
    },
    {
      "cell_type": "code",
      "source": [
        "fine_tune = initial_epoch + 5\n",
        "history_fine_tune = model_2.fit(train_data_10_percent,\n",
        "                                epochs = fine_tune,\n",
        "                                steps_per_epoch = len(train_data_10_percent),\n",
        "                                validation_data = test_data,\n",
        "                                validation_steps = len(test_data),\n",
        "                                initial_epoch = h.epoch[-1])"
      ],
      "metadata": {
        "colab": {
          "base_uri": "https://localhost:8080/"
        },
        "id": "b7mT6WSN5WbP",
        "outputId": "21366ac4-d7a8-4795-f27a-914814bad777"
      },
      "execution_count": null,
      "outputs": [
        {
          "output_type": "stream",
          "name": "stdout",
          "text": [
            "Epoch 5/10\n",
            "24/24 [==============================] - 18s 476ms/step - loss: 1.6831 - accuracy: 0.6173 - val_loss: nan - val_accuracy: 0.7016\n",
            "Epoch 6/10\n",
            "24/24 [==============================] - 10s 410ms/step - loss: 1.5524 - accuracy: 0.6920 - val_loss: nan - val_accuracy: 0.7212\n",
            "Epoch 7/10\n",
            "24/24 [==============================] - 10s 415ms/step - loss: 1.3493 - accuracy: 0.7027 - val_loss: nan - val_accuracy: 0.7400\n",
            "Epoch 8/10\n",
            "24/24 [==============================] - 11s 441ms/step - loss: 1.2751 - accuracy: 0.7320 - val_loss: nan - val_accuracy: 0.7352\n",
            "Epoch 9/10\n",
            "24/24 [==============================] - 10s 396ms/step - loss: 1.3224 - accuracy: 0.7173 - val_loss: nan - val_accuracy: 0.7072\n",
            "Epoch 10/10\n",
            "24/24 [==============================] - 10s 408ms/step - loss: 1.2814 - accuracy: 0.7573 - val_loss: nan - val_accuracy: 0.7676\n"
          ]
        }
      ]
    },
    {
      "cell_type": "code",
      "source": [
        ""
      ],
      "metadata": {
        "id": "brq9nNRJA5op"
      },
      "execution_count": null,
      "outputs": []
    },
    {
      "cell_type": "markdown",
      "source": [
        "fine tuning on all the data"
      ],
      "metadata": {
        "id": "vj4lkBRY7D5H"
      }
    },
    {
      "cell_type": "code",
      "source": [
        "!wget https://storage.googleapis.com/ztm_tf_course/food_vision/10_food_classes_all_data.zip"
      ],
      "metadata": {
        "colab": {
          "base_uri": "https://localhost:8080/"
        },
        "id": "G8k6t5GXA6IS",
        "outputId": "0c667b5f-aa46-473b-d525-eba2c947b7ca"
      },
      "execution_count": null,
      "outputs": [
        {
          "output_type": "stream",
          "name": "stdout",
          "text": [
            "--2022-07-04 12:12:40--  https://storage.googleapis.com/ztm_tf_course/food_vision/10_food_classes_all_data.zip\n",
            "Resolving storage.googleapis.com (storage.googleapis.com)... 173.194.202.128, 74.125.20.128, 108.177.98.128, ...\n",
            "Connecting to storage.googleapis.com (storage.googleapis.com)|173.194.202.128|:443... connected.\n",
            "HTTP request sent, awaiting response... 200 OK\n",
            "Length: 519183241 (495M) [application/zip]\n",
            "Saving to: ‘10_food_classes_all_data.zip.1’\n",
            "\n",
            "10_food_classes_all 100%[===================>] 495.13M  63.8MB/s    in 7.8s    \n",
            "\n",
            "2022-07-04 12:12:47 (63.5 MB/s) - ‘10_food_classes_all_data.zip.1’ saved [519183241/519183241]\n",
            "\n"
          ]
        }
      ]
    },
    {
      "cell_type": "code",
      "source": [
        "unzip_data('10_food_classes_all_data.zip')"
      ],
      "metadata": {
        "id": "Pif4KKZeA9IP"
      },
      "execution_count": null,
      "outputs": []
    },
    {
      "cell_type": "code",
      "source": [
        "train_dir = '10_food_classes_all_data/train'\n",
        "train_dir = '10_food_classes_all_data/test'\n"
      ],
      "metadata": {
        "id": "LYFS0se_BCPS"
      },
      "execution_count": null,
      "outputs": []
    },
    {
      "cell_type": "code",
      "source": [
        "walk_through_dir('10_food_classes_all_data')"
      ],
      "metadata": {
        "colab": {
          "base_uri": "https://localhost:8080/"
        },
        "id": "5T3qGirRBMbQ",
        "outputId": "cda055d5-4f94-485b-e86f-68ae7784a8f1"
      },
      "execution_count": null,
      "outputs": [
        {
          "output_type": "stream",
          "name": "stdout",
          "text": [
            "There are 2 directories and 0 images in '10_food_classes_all_data'.\n",
            "There are 10 directories and 0 images in '10_food_classes_all_data/train'.\n",
            "There are 0 directories and 750 images in '10_food_classes_all_data/train/ramen'.\n",
            "There are 0 directories and 750 images in '10_food_classes_all_data/train/chicken_curry'.\n",
            "There are 0 directories and 750 images in '10_food_classes_all_data/train/pizza'.\n",
            "There are 0 directories and 750 images in '10_food_classes_all_data/train/hamburger'.\n",
            "There are 0 directories and 750 images in '10_food_classes_all_data/train/grilled_salmon'.\n",
            "There are 0 directories and 750 images in '10_food_classes_all_data/train/chicken_wings'.\n",
            "There are 0 directories and 750 images in '10_food_classes_all_data/train/steak'.\n",
            "There are 0 directories and 750 images in '10_food_classes_all_data/train/fried_rice'.\n",
            "There are 0 directories and 750 images in '10_food_classes_all_data/train/sushi'.\n",
            "There are 0 directories and 750 images in '10_food_classes_all_data/train/ice_cream'.\n",
            "There are 10 directories and 0 images in '10_food_classes_all_data/test'.\n",
            "There are 0 directories and 250 images in '10_food_classes_all_data/test/ramen'.\n",
            "There are 0 directories and 250 images in '10_food_classes_all_data/test/chicken_curry'.\n",
            "There are 0 directories and 250 images in '10_food_classes_all_data/test/pizza'.\n",
            "There are 0 directories and 250 images in '10_food_classes_all_data/test/hamburger'.\n",
            "There are 0 directories and 250 images in '10_food_classes_all_data/test/grilled_salmon'.\n",
            "There are 0 directories and 250 images in '10_food_classes_all_data/test/chicken_wings'.\n",
            "There are 0 directories and 250 images in '10_food_classes_all_data/test/steak'.\n",
            "There are 0 directories and 250 images in '10_food_classes_all_data/test/fried_rice'.\n",
            "There are 0 directories and 250 images in '10_food_classes_all_data/test/sushi'.\n",
            "There are 0 directories and 250 images in '10_food_classes_all_data/test/ice_cream'.\n"
          ]
        }
      ]
    },
    {
      "cell_type": "code",
      "source": [
        "import tensorflow as tf\n",
        "IMG_SIZE = (224, 224)\n",
        "train_data_all =tf.keras.preprocessing.image_dataset_from_directory(train_dir,\n",
        "                                                                    label_mode = \"categorical\",\n",
        "                                                                    image_size = IMG_SIZE)\n",
        "test_data = tf.keras.preprocessing.image_dataset_from_directory(test_dir,\n",
        "                                                                label_mode = \"categorical\",\n",
        "                                                                image_size = IMG_SIZE)"
      ],
      "metadata": {
        "colab": {
          "base_uri": "https://localhost:8080/"
        },
        "id": "g9mzt1CNBSqB",
        "outputId": "85f550e4-b801-4337-851c-d2c1765eba81"
      },
      "execution_count": null,
      "outputs": [
        {
          "output_type": "stream",
          "name": "stdout",
          "text": [
            "Found 2500 files belonging to 10 classes.\n",
            "Found 2500 files belonging to 10 classes.\n"
          ]
        }
      ]
    },
    {
      "cell_type": "code",
      "source": [
        "model_2.load_weights(check_point)"
      ],
      "metadata": {
        "colab": {
          "base_uri": "https://localhost:8080/"
        },
        "id": "p-bfql5RCR3Y",
        "outputId": "33214576-2d01-4a9f-dc49-794f456dc5b5"
      },
      "execution_count": null,
      "outputs": [
        {
          "output_type": "execute_result",
          "data": {
            "text/plain": [
              "<tensorflow.python.training.tracking.util.CheckpointLoadStatus at 0x7fb680ce7190>"
            ]
          },
          "metadata": {},
          "execution_count": 106
        }
      ]
    },
    {
      "cell_type": "code",
      "source": [
        "model_2.compile(loss = tf.keras.losses.CategoricalCrossentropy(),\n",
        "               optimizer = tf.keras.optimizers.Adam(lr = 0.0001),\n",
        "               metrics = [\"accuracy\"])"
      ],
      "metadata": {
        "colab": {
          "base_uri": "https://localhost:8080/"
        },
        "id": "aAjMGHiUDB-W",
        "outputId": "9d8294aa-12d3-4100-b25b-6047c11e1549"
      },
      "execution_count": null,
      "outputs": [
        {
          "output_type": "stream",
          "name": "stderr",
          "text": [
            "/usr/local/lib/python3.7/dist-packages/keras/optimizer_v2/adam.py:105: UserWarning: The `lr` argument is deprecated, use `learning_rate` instead.\n",
            "  super(Adam, self).__init__(name, **kwargs)\n"
          ]
        }
      ]
    },
    {
      "cell_type": "code",
      "source": [
        "fine_tune = initial_epoch + 5 \n",
        "history_fine_all_data = model_2.fit(train_data_all,\n",
        "                                    epochs = fine_tune,\n",
        "                                    steps_per_epoch = len(train_data_all),\n",
        "                                    validation_data  = test_data,\n",
        "                                    validation_steps = len(test_data),\n",
        "                                    initial_epoch = h.epoch[-1],\n",
        "                                    callbacks = create_tensorboard_callback(dir_name = \"transfer_learning\",\n",
        "                                                                           experiment_name = \"full_train_data\"),\n",
        "                                    )"
      ],
      "metadata": {
        "colab": {
          "base_uri": "https://localhost:8080/"
        },
        "id": "06EJUEbmDMgn",
        "outputId": "1843b0d9-1282-4fcd-baaf-6b70be3df964"
      },
      "execution_count": null,
      "outputs": [
        {
          "output_type": "stream",
          "name": "stdout",
          "text": [
            "Saving TensorBoard log files to: transfer_learning/full_train_data/20220704-121256\n",
            "Epoch 5/10\n",
            "79/79 [==============================] - 26s 254ms/step - loss: nan - accuracy: 0.6516 - val_loss: 1.1058 - val_accuracy: 0.7528\n",
            "Epoch 6/10\n",
            "79/79 [==============================] - 18s 226ms/step - loss: 1.3637 - accuracy: 0.6848 - val_loss: 1.0011 - val_accuracy: 0.7556\n",
            "Epoch 7/10\n",
            "79/79 [==============================] - 18s 225ms/step - loss: 1.1888 - accuracy: 0.7384 - val_loss: 0.9487 - val_accuracy: 0.7864\n",
            "Epoch 8/10\n",
            "79/79 [==============================] - 18s 230ms/step - loss: 1.0952 - accuracy: 0.7536 - val_loss: nan - val_accuracy: 0.8060\n",
            "Epoch 9/10\n",
            "79/79 [==============================] - 18s 222ms/step - loss: nan - accuracy: 0.7540 - val_loss: 0.8884 - val_accuracy: 0.8092\n",
            "Epoch 10/10\n",
            "79/79 [==============================] - 17s 216ms/step - loss: nan - accuracy: 0.7860 - val_loss: nan - val_accuracy: 0.8372\n"
          ]
        }
      ]
    },
    {
      "cell_type": "code",
      "source": [
        ""
      ],
      "metadata": {
        "id": "hfd1ea2yF4C9"
      },
      "execution_count": null,
      "outputs": []
    }
  ]
}